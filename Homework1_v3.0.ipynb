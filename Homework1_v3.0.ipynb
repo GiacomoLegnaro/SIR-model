{
 "cells": [
  {
   "cell_type": "markdown",
   "metadata": {},
   "source": [
    "<center>\n",
    "<hr>\n",
    "<h1>Digital Epidemiology</h1>\n",
    "<h2>Assignment No. 1 - SIR</h2>\n",
    "<h2>Giacomo Legnaro</h2>\n",
    "<hr>\n",
    "</center>"
   ]
  },
  {
   "cell_type": "markdown",
   "metadata": {},
   "source": [
    "In this assignment i have choose *LiveJournal* networks graph. "
   ]
  },
  {
   "cell_type": "markdown",
   "metadata": {},
   "source": [
    "LiveJournal is a free on-line community with almost 10 million members; a significant fraction of these members are highly active. (For example, roughly 300,000 update their content in any given 24-hour period.) LiveJournal allows members to maintain journals, individual and group blogs, and it allows people to declare which other members are their friends they belong."
   ]
  },
  {
   "cell_type": "markdown",
   "metadata": {},
   "source": [
    "Nodes are users of LiveJournal, and directed edges represent friendships. In the dataset downloaded the edges are directed, but to do this assignment i have considered undirected edges."
   ]
  },
  {
   "cell_type": "markdown",
   "metadata": {},
   "source": [
    "A briefly summary of the dataset"
   ]
  },
  {
   "cell_type": "markdown",
   "metadata": {},
   "source": [
    "<img src=\"summary_live_journal.png\">"
   ]
  },
  {
   "cell_type": "markdown",
   "metadata": {},
   "source": [
    "At the beginning is necessary to import the libraries. In this case we have upload data of a graph larger than 1 milion of nodes and to managed it we have used *igraph* library instead of networkx"
   ]
  },
  {
   "cell_type": "code",
   "execution_count": 1,
   "metadata": {
    "collapsed": false
   },
   "outputs": [],
   "source": [
    "import numpy as np\n",
    "import networkx as nx\n",
    "import matplotlib.pyplot as plt\n",
    "import pylab\n",
    "import random\n",
    "import itertools\n",
    "from operator import itemgetter\n",
    "from igraph import *\n",
    "%matplotlib inline\n",
    "plt.rcParams['figure.figsize'] = (10, 6)\n",
    "# set all plot figure dimensions"
   ]
  },
  {
   "cell_type": "markdown",
   "metadata": {},
   "source": [
    "### Part 1.1"
   ]
  },
  {
   "cell_type": "markdown",
   "metadata": {},
   "source": [
    "Select the file of the dataset to upload"
   ]
  },
  {
   "cell_type": "code",
   "execution_count": 2,
   "metadata": {
    "collapsed": true
   },
   "outputs": [],
   "source": [
    "filename = 'soc-LiveJournal1.txt'"
   ]
  },
  {
   "cell_type": "markdown",
   "metadata": {},
   "source": [
    "Upload the raw dataset and clean it from the first rows start with '#' character and consider only the first two values for each row that are the nodes (vertex) of the edges."
   ]
  },
  {
   "cell_type": "code",
   "execution_count": 3,
   "metadata": {
    "collapsed": false
   },
   "outputs": [],
   "source": [
    "# this cell could be not run after the first time\n",
    "data = []\n",
    "with open(filename) as f:    \n",
    "    for line in f:\n",
    "        if line.startswith('#'):\n",
    "            continue\n",
    "        else:\n",
    "            data.append(str(line.split()[0])+'\\t'+ str(line.split()[1])+'\\n')"
   ]
  },
  {
   "cell_type": "code",
   "execution_count": 4,
   "metadata": {
    "collapsed": false
   },
   "outputs": [],
   "source": [
    "w_filename = filename.strip('.txt') + '_treated' + '.txt'"
   ]
  },
  {
   "cell_type": "code",
   "execution_count": 5,
   "metadata": {
    "collapsed": true
   },
   "outputs": [],
   "source": [
    "# this cell could be not run after the first time\n",
    "with open(w_filename, 'wb') as f:\n",
    "    f.writelines(list(data))"
   ]
  },
  {
   "cell_type": "markdown",
   "metadata": {},
   "source": [
    "Now it's time to create the graph with *igraph*. We have loaded the dataset directly from the file created and we have choose undirected graph."
   ]
  },
  {
   "cell_type": "code",
   "execution_count": 6,
   "metadata": {
    "collapsed": false
   },
   "outputs": [],
   "source": [
    "G_raw = Graph.Read_Ncol(w_filename, directed = False)"
   ]
  },
  {
   "cell_type": "code",
   "execution_count": 7,
   "metadata": {
    "collapsed": false
   },
   "outputs": [
    {
     "name": "stdout",
     "output_type": "stream",
     "text": [
      "The graph have  4847571  nodes and  68993773  edges\n"
     ]
    }
   ],
   "source": [
    "print \"The graph have \", G_raw.vcount(), \" nodes and \", G_raw.ecount(), \" edges\" "
   ]
  },
  {
   "cell_type": "markdown",
   "metadata": {},
   "source": [
    "In a first study of the assignment we have see that the graph is much bigger to compute the study in a limited time, and we have select randomly 35% of the total nodes: the percentage is choosen to have a set of nodes greater than 1 million."
   ]
  },
  {
   "cell_type": "code",
   "execution_count": 8,
   "metadata": {
    "collapsed": false
   },
   "outputs": [],
   "source": [
    "v_rnd = random.sample(range(G_raw.vcount()), int(G_raw.vcount()*0.35))"
   ]
  },
  {
   "cell_type": "markdown",
   "metadata": {},
   "source": [
    "After a selection of the induced subgraph, I have choose the giant connected subgraph."
   ]
  },
  {
   "cell_type": "code",
   "execution_count": 9,
   "metadata": {
    "collapsed": true
   },
   "outputs": [],
   "source": [
    "G = G_raw.subgraph(v_rnd).components().giant()"
   ]
  },
  {
   "cell_type": "code",
   "execution_count": 10,
   "metadata": {
    "collapsed": false
   },
   "outputs": [
    {
     "name": "stdout",
     "output_type": "stream",
     "text": [
      "The sub-graph considered have  1222926  nodes and  8369335  edges\n"
     ]
    }
   ],
   "source": [
    "print \"The sub-graph considered have \", G.vcount(), \" nodes and \", G.ecount(), \" edges\" "
   ]
  },
  {
   "cell_type": "markdown",
   "metadata": {},
   "source": [
    "To reduce computational time after, at each nodes I have update the dictionary with the degree and the unique list of the neighbors.\n",
    "The degree of a node in a network is the number of connections or edges the node has to other nodes (sum of the in and out -connections)."
   ]
  },
  {
   "cell_type": "code",
   "execution_count": 11,
   "metadata": {
    "collapsed": true
   },
   "outputs": [],
   "source": [
    "for i in range(G.vcount()):\n",
    "    G.vs[i][\"degree\"] = G.degree(i)"
   ]
  },
  {
   "cell_type": "code",
   "execution_count": 12,
   "metadata": {
    "collapsed": true
   },
   "outputs": [],
   "source": [
    "for i in range(G.vcount()):\n",
    "    G.vs[i][\"neighbors\"] = list(set(G.neighbors(i)))"
   ]
  },
  {
   "cell_type": "markdown",
   "metadata": {},
   "source": [
    "Next step is dedicated to see the degree distribution. The degree distribution is the probability that a randomly chosen node has  connections (or neighbors)."
   ]
  },
  {
   "cell_type": "code",
   "execution_count": 45,
   "metadata": {
    "collapsed": false
   },
   "outputs": [],
   "source": [
    "def degree_distribution(G):\n",
    "    degree = {}\n",
    "    for d in G.degree():\n",
    "        degree[d] = 1 if d not in degree else (degree[d]+1)\n",
    "\n",
    "    nodes = []\n",
    "    frequency = []\n",
    "    for d,f in degree.items():\n",
    "        nodes.append(d), frequency.append(f)\n",
    "    seq_sort = [f[0] for f in sorted(enumerate(frequency), reverse=True, key=lambda x:x[1])]\n",
    "    nodes = [nodes[i] for i in seq_sort]\n",
    "    frequency = [frequency[i]/float(G.vcount()) for i in seq_sort]\n",
    "    \n",
    "    return nodes, frequency"
   ]
  },
  {
   "cell_type": "code",
   "execution_count": 46,
   "metadata": {
    "collapsed": true
   },
   "outputs": [],
   "source": [
    "nodes, frequency = degree_distribution(G)"
   ]
  },
  {
   "cell_type": "code",
   "execution_count": 47,
   "metadata": {
    "collapsed": false
   },
   "outputs": [
    {
     "data": {
      "image/png": "[encoded data removed]",
      "text/plain": [
       "<matplotlib.figure.Figure at 0x22e418790>"
      ]
     },
     "metadata": {},
     "output_type": "display_data"
    }
   ],
   "source": [
    "plt.figure()\n",
    "plt.loglog(nodes, frequency, 'bo', fillstyle='full', markeredgecolor='b')\n",
    "plt.xlabel('Degree', fontsize=18)\n",
    "plt.ylabel('Frequency', fontsize=18)\n",
    "plt.title('Degree Distribution', fontsize=22)\n",
    "plt.show()"
   ]
  },
  {
   "cell_type": "markdown",
   "metadata": {},
   "source": [
    "As expected there are a lot of nodes with low degree and a few with an high degree."
   ]
  },
  {
   "cell_type": "markdown",
   "metadata": {},
   "source": [
    "### Part 1.2"
   ]
  },
  {
   "cell_type": "markdown",
   "metadata": {},
   "source": [
    "In this part we have set up a simulation of an SIR epidemic model. We have used as guideline the notebook see at lesson, but we have try to optimize and rearranged with the igraph library."
   ]
  },
  {
   "cell_type": "markdown",
   "metadata": {},
   "source": [
    "This function is written to be called at the next steps only change the input arguments."
   ]
  },
  {
   "cell_type": "code",
   "execution_count": 16,
   "metadata": {
    "collapsed": false
   },
   "outputs": [],
   "source": [
    "def SIR_model(G,mu,beta,itrs,seed,flag,sentinels=[]):\n",
    "    G.itr = {i:[] for i in range(itrs)}\n",
    "    \n",
    "    for itr in range(itrs):\n",
    "        t = 0 # Initialize time\n",
    "        I_net = [] # used to store the history of the system\n",
    "        infected_nodes = [seed] # list of infected nodes\n",
    "        # we need to store the disease status of each node S=0, I=1, R=-1\n",
    "        G.vs[\"disease_status\"] = np.zeros(G.vcount(), dtype = int)\n",
    "        G.vs[seed][\"disease_status\"] = 1\n",
    "        I_net.append(len(infected_nodes))\n",
    "        \n",
    "        while len(infected_nodes) > 0: \n",
    "            # loop until there are infectious nodes\n",
    "            t += 1\n",
    "            infect = list(set([i for i in list(set(itertools.chain.from_iterable(G.vs[infected_nodes]['neighbors']))) if G.vs[i][\"disease_status\"] == 0 and np.random.random() < beta]))\n",
    "            G.vs[infect][\"disease_status\"] = 1\n",
    "            recover = [i for i in infected_nodes if np.random.random() < mu]\n",
    "            G.vs[recover][\"disease_status\"] = -1\n",
    "            G.itr[itr].extend([t]*len(set(infect) & set(sentinels)))\n",
    "            infected_nodes.extend(infect)\n",
    "            infected_nodes = list(set(infected_nodes) - set(recover))\n",
    "            I_net.append(len(infected_nodes))\n",
    "    if flag:\n",
    "        recovered = len([s for s in G.vs[\"disease_status\"] if s == -1])\n",
    "        return I_net, recovered\n",
    "    else:\n",
    "        return [np.mean(G.itr[i]) for i in range(itrs) if G.itr[i] != []]                                  "
   ]
  },
  {
   "cell_type": "markdown",
   "metadata": {},
   "source": [
    "$\\mu$ is a parameter corresponding to the infectious period (how long a nodes stay infect): lower value meaning an higher infectious time of the node."
   ]
  },
  {
   "cell_type": "markdown",
   "metadata": {},
   "source": [
    "$\\beta$ is a parameter of the probability of infection given a contact: higher value meaning high probability to be infect."
   ]
  },
  {
   "cell_type": "code",
   "execution_count": 17,
   "metadata": {
    "collapsed": true
   },
   "outputs": [],
   "source": [
    "mu = 0.4 # infectious period: how long is infectious\n",
    "beta = 0.6 # probability of infection given a contact"
   ]
  },
  {
   "cell_type": "markdown",
   "metadata": {},
   "source": [
    "Now it's time to choose the seed of the contagion. At first instance I have thinking to choose the nodes with the higher degree to have a widely contagion. But, I have choose to select randomly a node with degree greater than the 95-percentile of the degree-distribution."
   ]
  },
  {
   "cell_type": "code",
   "execution_count": 18,
   "metadata": {
    "collapsed": false
   },
   "outputs": [],
   "source": [
    "#this part take a lot of time\n",
    "#seed = sorted([[i, G.degree(i)] for i in range(G.vcount())], key=itemgetter(1))[-1][0]"
   ]
  },
  {
   "cell_type": "code",
   "execution_count": 19,
   "metadata": {
    "collapsed": false
   },
   "outputs": [],
   "source": [
    "# we choose the seed as a random node with degree greater than the average\n",
    "seed = G.vcount() - 1\n",
    "while np.percentile(G.degree(), 95) > G.degree(seed):\n",
    "    seed = random.sample(range(G.vcount()),1)[0]"
   ]
  },
  {
   "cell_type": "code",
   "execution_count": 20,
   "metadata": {
    "collapsed": false
   },
   "outputs": [
    {
     "name": "stdout",
     "output_type": "stream",
     "text": [
      "The seed is the node:  199628  with degree 182\n"
     ]
    }
   ],
   "source": [
    "print 'The seed is the node: ', seed , ' with degree', G.degree(seed)"
   ]
  },
  {
   "cell_type": "markdown",
   "metadata": {},
   "source": [
    "Last step of this first part is to plot the epidemic curve. Below we can see the results"
   ]
  },
  {
   "cell_type": "code",
   "execution_count": 21,
   "metadata": {
    "collapsed": false
   },
   "outputs": [],
   "source": [
    "I_net, recovered = SIR_model(G,mu,beta,1,seed,True)"
   ]
  },
  {
   "cell_type": "code",
   "execution_count": 22,
   "metadata": {
    "collapsed": false
   },
   "outputs": [
    {
     "data": {
      "image/png": "[encoded data removed]",
      "text/plain": [
       "<matplotlib.figure.Figure at 0x243f6b990>"
      ]
     },
     "metadata": {},
     "output_type": "display_data"
    }
   ],
   "source": [
    "plt.figure()\n",
    "plt.plot(xrange(0,len(I_net)), [float(n)/G.vcount() for n in I_net], '.-' )\n",
    "plt.xlabel('Time', fontsize=18)\n",
    "plt.ylabel('Prevalence', fontsize=18)\n",
    "plt.show()"
   ]
  },
  {
   "cell_type": "code",
   "execution_count": 23,
   "metadata": {
    "collapsed": false
   },
   "outputs": [
    {
     "name": "stdout",
     "output_type": "stream",
     "text": [
      "Total number of nodes 1222926\n",
      "The total number of recovered nodes is 1109878\n",
      "The final attack rate is 0.90755941079\n",
      "The epidemic is over at time 43\n"
     ]
    }
   ],
   "source": [
    "recovered = len([n for n in G.vs[\"disease_status\"] if n == -1])\n",
    "final_t = len(I_net)\n",
    "\n",
    "print \"Total number of nodes\", G.vcount()\n",
    "print \"The total number of recovered nodes is\", recovered\n",
    "print \"The final attack rate is\", float(recovered)/G.vcount()\n",
    "print \"The epidemic is over at time\", final_t"
   ]
  },
  {
   "cell_type": "markdown",
   "metadata": {},
   "source": [
    "### Part 2.1"
   ]
  },
  {
   "cell_type": "markdown",
   "metadata": {},
   "source": [
    "In this part I have extended what done in the previous points with iterations and different strategy."
   ]
  },
  {
   "cell_type": "markdown",
   "metadata": {},
   "source": [
    "I have choose 100 iterations and a set of sentinel nodes with size 5% of the total nodes. $\\mu$ and $\\sigma$ is the same used before."
   ]
  },
  {
   "cell_type": "code",
   "execution_count": 27,
   "metadata": {
    "collapsed": true
   },
   "outputs": [],
   "source": [
    "itr = 100\n",
    "p = 0.05\n",
    "N = int(G.vcount()*p)\n",
    "mu = 0.4\n",
    "beta = 0.6"
   ]
  },
  {
   "cell_type": "markdown",
   "metadata": {},
   "source": [
    "The sentinels are choosen randomly from the nodes dataset."
   ]
  },
  {
   "cell_type": "code",
   "execution_count": 28,
   "metadata": {
    "collapsed": false
   },
   "outputs": [],
   "source": [
    "sentinels = random.sample(range(G.vcount()), N)"
   ]
  },
  {
   "cell_type": "markdown",
   "metadata": {},
   "source": [
    "Differently from the previous points, in this case we are interested to see the distribution of the arrival time at the sentinels of the epidemic. In particular the $6^{th}$-args of the function call choose the return values. A boxplot help us to understand the distribution of the arrival time with the same seed and sentinels."
   ]
  },
  {
   "cell_type": "code",
   "execution_count": 29,
   "metadata": {
    "collapsed": false
   },
   "outputs": [],
   "source": [
    "avg_SIR = SIR_model(G,mu,beta,itr,seed,False,sentinels)"
   ]
  },
  {
   "cell_type": "code",
   "execution_count": 31,
   "metadata": {
    "collapsed": false
   },
   "outputs": [
    {
     "data": {
      "image/png": "[encoded data removed]",
      "text/plain": [
       "<matplotlib.figure.Figure at 0x222f4f490>"
      ]
     },
     "metadata": {},
     "output_type": "display_data"
    }
   ],
   "source": [
    "plt.boxplot(avg_SIR)\n",
    "plt.title('Arrival times distribution - 100 realizations', fontsize=18)\n",
    "plt.xticks([1],['random sentinels'])\n",
    "plt.show()"
   ]
  },
  {
   "cell_type": "markdown",
   "metadata": {},
   "source": [
    "### Part 2.2"
   ]
  },
  {
   "cell_type": "markdown",
   "metadata": {},
   "source": [
    "An other possible study will be a repetition of the function ~100 times with different sentinels to stabilize the variability due to the choose sentinel's. To solve this problem, we have repeat the previous point 1 hundred times with new sentinels at each time. The results are displayed at the end of the computation."
   ]
  },
  {
   "cell_type": "code",
   "execution_count": 64,
   "metadata": {
    "collapsed": false
   },
   "outputs": [],
   "source": [
    "avg_rnd_SIR = [np.mean(SIR_model(G,mu,beta,itr,seed,False,random.sample(range(G.vcount()), N))) for i in range(50)]"
   ]
  },
  {
   "cell_type": "code",
   "execution_count": 76,
   "metadata": {
    "collapsed": false
   },
   "outputs": [
    {
     "data": {
      "image/png": "[encoded data removed]",
      "text/plain": [
       "<matplotlib.figure.Figure at 0x223d72d10>"
      ]
     },
     "metadata": {},
     "output_type": "display_data"
    }
   ],
   "source": [
    "plt.boxplot(avg_rnd_SIR)\n",
    "plt.title('Arrival times distribution - 50-random-sentinel-choices', fontsize=14)\n",
    "plt.xticks([1],['50-rnd-sentinel'])\n",
    "plt.show()"
   ]
  },
  {
   "cell_type": "markdown",
   "metadata": {},
   "source": [
    "###  Part 2.3"
   ]
  },
  {
   "cell_type": "markdown",
   "metadata": {},
   "source": [
    "In this part we have considered three different strategies to choose the sentinels. In particular we have used three metric: degree centrality, eigenvalue centrality and pagerank centrality."
   ]
  },
  {
   "cell_type": "markdown",
   "metadata": {},
   "source": [
    "*Degree centrality*: refers to the number of edges attached to the node."
   ]
  },
  {
   "cell_type": "markdown",
   "metadata": {},
   "source": [
    "*Eigenvector centrality*: is a measure of the influence of a node in a network. It assigns relative scores to all nodes in the network based on the concept that connections to high-scoring nodes contribute more to the score of the node in question than equal connections to low-scoring nodes. "
   ]
  },
  {
   "cell_type": "markdown",
   "metadata": {},
   "source": [
    "*PageRank centrality*: ranking of the nodes in the graph based on the structure of the incoming links. "
   ]
  },
  {
   "cell_type": "markdown",
   "metadata": {},
   "source": [
    "For each of the previous metrics we have choose the top and bottom -N nodes as sentinels."
   ]
  },
  {
   "cell_type": "code",
   "execution_count": 32,
   "metadata": {
    "collapsed": false
   },
   "outputs": [],
   "source": [
    "dc = np.argsort(G.vs[\"degree\"]).tolist()\n",
    "bot_dc, top_dc = dc[:N],dc[-N:]\n",
    "\n",
    "ec = np.argsort(G.evcent()).tolist()\n",
    "bot_ec, top_ec = ec[:N],ec[-N:]\n",
    "\n",
    "pr = np.argsort(G.pagerank()).tolist()\n",
    "bot_pr, top_pr = pr[:N],pr[-N:]"
   ]
  },
  {
   "cell_type": "code",
   "execution_count": 33,
   "metadata": {
    "collapsed": true
   },
   "outputs": [],
   "source": [
    "bot_dc_SIR = SIR_model(G,mu,beta,itr,seed,False,bot_dc)"
   ]
  },
  {
   "cell_type": "code",
   "execution_count": 34,
   "metadata": {
    "collapsed": true
   },
   "outputs": [],
   "source": [
    "top_dc_SIR = SIR_model(G,mu,beta,itr,seed,False,top_dc)"
   ]
  },
  {
   "cell_type": "code",
   "execution_count": 35,
   "metadata": {
    "collapsed": true
   },
   "outputs": [],
   "source": [
    "bot_ec_SIR = SIR_model(G,mu,beta,itr,seed,False,bot_ec)"
   ]
  },
  {
   "cell_type": "code",
   "execution_count": 36,
   "metadata": {
    "collapsed": true
   },
   "outputs": [],
   "source": [
    "top_ec_SIR = SIR_model(G,mu,beta,itr,seed,False,top_ec)"
   ]
  },
  {
   "cell_type": "code",
   "execution_count": 37,
   "metadata": {
    "collapsed": true
   },
   "outputs": [],
   "source": [
    "bot_pr_SIR = SIR_model(G,mu,beta,itr,seed,False,bot_pr)"
   ]
  },
  {
   "cell_type": "code",
   "execution_count": 38,
   "metadata": {
    "collapsed": true
   },
   "outputs": [],
   "source": [
    "top_pr_SIR = SIR_model(G,mu,beta,itr,seed,False,top_pr)"
   ]
  },
  {
   "cell_type": "code",
   "execution_count": 77,
   "metadata": {
    "collapsed": false
   },
   "outputs": [],
   "source": [
    "avg_time_centrality = [avg_rnd_SIR, bot_dc_SIR, top_dc_SIR, bot_ec_SIR, top_ec_SIR, bot_pr_SIR, top_pr_SIR]"
   ]
  },
  {
   "cell_type": "code",
   "execution_count": 78,
   "metadata": {
    "collapsed": false
   },
   "outputs": [
    {
     "data": {
      "image/png": "[encoded data removed]",
      "text/plain": [
       "<matplotlib.figure.Figure at 0x223d65f10>"
      ]
     },
     "metadata": {},
     "output_type": "display_data"
    }
   ],
   "source": [
    "plt.figure()\n",
    "plt.boxplot(avg_time_centrality)\n",
    "plt.xticks([1,2,3,4,5,6,7],['50-rnd-sentinel','bottomDegree','topDegree','bottomEigen','topEigen','bottomPageRank','topPageRank'], rotation='vertical')\n",
    "plt.title('Arrival times distribution - different strategies', fontsize=18)\n",
    "plt.show()"
   ]
  },
  {
   "cell_type": "markdown",
   "metadata": {},
   "source": [
    "In this plot we compare the different strategies. As we can see, the bottom nodes for each metrics take more time before to notify the infection respect to the top nodes. In degree centrality the top nodes are connected with the largest amount of nodes and therefore are more susceptible to be infect. In eigenvector centrality we not consider only the connection links in-out of the nodes, but also the connections of the neighbors. If a node have an high eigenvector centrality it have a lot of link to it and a dense neighbor network. PageRank is a variant of the eigenvector centrality but the main principle theory is the same. At the other side, the nodes with low degree, eigenvector and pagerank centrality are isolated nodes, with a lower probability to be reached by the epidemic and with a higher time to notify it."
   ]
  },
  {
   "cell_type": "markdown",
   "metadata": {},
   "source": [
    "Also, the top-selection-metrics nodes are better than the stabilized versione of the random selection."
   ]
  },
  {
   "cell_type": "markdown",
   "metadata": {},
   "source": [
    "### Part 3"
   ]
  },
  {
   "cell_type": "markdown",
   "metadata": {},
   "source": [
    "As last part we select N nodes at random and we assume to do not have global information about the graph, but only about the graph neighborhoods of the chosen nodes."
   ]
  },
  {
   "cell_type": "markdown",
   "metadata": {},
   "source": [
    "The challenge is to build another set of N nodes that improves (reduce) the average detection time of the epidemic."
   ]
  },
  {
   "cell_type": "markdown",
   "metadata": {},
   "source": [
    "The friendship paradox is the phenomenon first observed by the sociologist Scott L. Feld in 1991 that most people have fewer friends than their friends have, on average. the phenomenon is a consequence of the general mathematical properties of social networks, that is the arithmentic-geometric mean inequality and the Cauchy-Schwarz inequality."
   ]
  },
  {
   "cell_type": "markdown",
   "metadata": {},
   "source": [
    "In addition to the mathematical properties we have see at the previous point the importance of an higher centrality to reduce the arrival time. "
   ]
  },
  {
   "cell_type": "markdown",
   "metadata": {},
   "source": [
    "To do it we have choose from the subgraph induced by the random nodes and their neighbors the degree *top*-N nodes and we have try to improve the arrival time. It is useful repeat more time (50) to have more strength."
   ]
  },
  {
   "cell_type": "code",
   "execution_count": null,
   "metadata": {
    "collapsed": false
   },
   "outputs": [],
   "source": [
    "time_rnd = []\n",
    "time_top_dc = []\n",
    "\n",
    "for i in range(50):\n",
    "    sentinels_rnd = random.sample(range(G.vcount()), N)\n",
    "    nodes_subgraph = list(sentinels_rnd)\n",
    "    nodes_subgraph.extend(list(set(itertools.chain.from_iterable(G.vs[sentinels]['neighbors']))))\n",
    "    G_sub = G.subgraph(nodes_subgraph)\n",
    "    seed = G_sub.degree().index(max(G_sub.degree()))\n",
    "    sentinels_top_dc = np.argsort(G_sub.degree()).tolist()[-N:]\n",
    "    rnd_sub_SIR = SIR_model(G,mu,beta,itr,seed,False,sentinels_rnd)\n",
    "    top_dc_sub_SIR = SIR_model(G,mu,beta,itr,seed,False,sentinels_top_dc)\n",
    "    \n",
    "    time_rnd.append(np.mean(rnd_sub_SIR))\n",
    "    time_top_dc.append(np.mean(top_dc_sub_SIR))"
   ]
  },
  {
   "cell_type": "code",
   "execution_count": 63,
   "metadata": {
    "collapsed": false
   },
   "outputs": [
    {
     "data": {
      "image/png": "[encoded data removed]",
      "text/plain": [
       "<matplotlib.figure.Figure at 0x22afb1210>"
      ]
     },
     "metadata": {},
     "output_type": "display_data"
    }
   ],
   "source": [
    "plt.figure()\n",
    "plt.boxplot([time_rnd,time_top_dc])\n",
    "plt.xticks([1, 2], ['rnd','topDegree'], fontsize=12)\n",
    "plt.title('Arrival times distribution - random and subgraph top degree centrality sentinels')\n",
    "plt.show()"
   ]
  },
  {
   "cell_type": "markdown",
   "metadata": {},
   "source": [
    "As expected, our choice are good to improve the arrival time."
   ]
  },
  {
   "cell_type": "markdown",
   "metadata": {},
   "source": [
    "#### 97 rows"
   ]
  }
 ],
 "metadata": {
  "kernelspec": {
   "display_name": "Python 2",
   "language": "python",
   "name": "python2"
  },
  "language_info": {
   "codemirror_mode": {
    "name": "ipython",
    "version": 2
   },
   "file_extension": ".py",
   "mimetype": "text/x-python",
   "name": "python",
   "nbconvert_exporter": "python",
   "pygments_lexer": "ipython2",
   "version": "2.7.9"
  }
 },
 "nbformat": 4,
 "nbformat_minor": 1
}
